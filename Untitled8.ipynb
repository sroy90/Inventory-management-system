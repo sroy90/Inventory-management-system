{
  "nbformat": 4,
  "nbformat_minor": 0,
  "metadata": {
    "colab": {
      "name": "Untitled8.ipynb",
      "provenance": []
    },
    "kernelspec": {
      "name": "python3",
      "display_name": "Python 3"
    },
    "language_info": {
      "name": "python"
    }
  },
  "cells": [
    {
      "cell_type": "code",
      "metadata": {
        "id": "vsXyEnjflGRv"
      },
      "source": [
        "record = {2201 : {\"Name\": \"Perk\" , \"Type\": \"chocolate\" , \"Quantity\" : \"30\" , \"Expiry date\" : \"20 aug,23\" , \"Price\" : \"10\", },          \n",
        "             \n",
        "          2202 : {\"Name\": \"Bourneville\" , \"Type\": \"chocolate\" , \"Quantity\" : \"50\" , \"Expiry date\" : \"16 aug,24\" , \"Price\" : \"10\",},\n",
        "\n",
        "          2203 : {\"Name\": \"Dairy Milk\" , \"Type\": \"chocolate\" , \"Quantity\" : \"40\" , \"Expiry date\" : \"11 aug,24\" , \"Price\" : \"10\",},\n",
        "\n",
        "          2204 : {\"Name\": \"Nutties\" , \"Type\": \"chocolate\" , \"Quantity\" : \"100\" , \"Expiry date\" : \"12 aug,25\" , \"Price\" : \"10\",},\n",
        "          2205 : {\"Name\": \"Kit-Kat\" , \"Type\": \"chocolate\" , \"Quantity\" : \"60\" , \"Expiry date\" : \"26 aug,24\" , \"Price\" : \"10\",},\n",
        "          2206 : {\"Name\": \"Perk\" , \"Type\": \"chocolate\" , \"Quantity\" : \"200\" , \"Expiry date\" : \"04 aug,26\" , \"Price\" : \"20\",},\n",
        "          2207 : {\"Name\": \"Bourneville\" , \"Type\": \"chocolate\" , \"Quantity\" : \"40\" , \"Expiry date\" : \"01 aug,22\" , \"Price\" : \"50\",},\n",
        "          2208 : {\"Name\": \"Milky Bar\" , \"Type\": \"chocolate\" , \"Quantity\" : \"70\" , \"Expiry date\" : \"22 aug,23\" , \"Price\" : \"10\",},\n",
        "          2209 : {\"Name\": \"Dairy Milk\" , \"Type\": \"chocolate\" , \"Quantity\" : \"80\" , \"Expiry date\" : \"21 aug,24\" , \"Price\" : \"40\",},\n",
        "          2210 : {\"Name\": \"Dairy Milk Silk\" , \"Type\": \"chocolate\" , \"Quantity\" : \"50\" , \"Expiry date\" : \"25 aug,25\" , \"Price\" : \"20\",},\n",
        "          2211 : {\"Name\": \"Dairy Milk Silk\" , \"Type\": \"chocolate\" , \"Quantity\" : \"80\" , \"Expiry date\" : \"07 aug,26\" , \"Price\" : \"80\",},\n",
        "          2212 : {\"Name\": \"Munch\" , \"Type\": \"chocolate\" , \"Quantity\" : \"90\" , \"Expiry date\" : \"09 aug,24\" , \"Price\" : \"5\",},\n",
        "          2213 : {\"Name\": \"Munch\" , \"Type\": \"chocolate\" , \"Quantity\" : \"150\" , \"Expiry date\" : \"29 aug,26\" , \"Price\" : \"10\",},\n",
        "          2214 : {\"Name\": \"Munch\" , \"Type\": \"chocolate\" , \"Quantity\" : \"170\" , \"Expiry date\" : \"24 aug,25\" , \"Price\" : \"20\",},\n",
        "          2215 : {\"Name\": \"Bar-one\" , \"Type\": \"chocolate\" , \"Quantity\" : \"60\" , \"Expiry date\" : \"05 aug,24\" , \"Price\" : \"10\",},\n",
        "          2216 : {\"Name\": \"Lays wavy\" , \"Type\": \"Lays\" , \"Quantity\" : \"70\" , \"Expiry date\" : \"04 aug,25\" , \"Price\" : \"10\",},\n",
        "          2217 : {\"Name\": \"kurkure masala munch\" , \"Type\": \"kurkure\" , \"Quantity\" : \"80\" , \"Expiry date\" : \"06 aug,22\" , \"Price\" : \"10\",},\n",
        "          2218 : {\"Name\": \"Lays classic\" , \"Type\": \"Lays\" , \"Quantity\" : \"100\" , \"Expiry date\" : \"04 aug,24\" , \"Price\" : \"5\",},\n",
        "          2219 : {\"Name\": \"Lays MAXX\" , \"Type\": \"Lays\" , \"Quantity\" : \"110\" , \"Expiry date\" : \"20 aug,23\" , \"Price\" : \"20\",},\n",
        "          2220 : {\"Name\": \"kurkure Solid Masti\" , \"Type\": \"kurkure\" , \"Quantity\" : \"120\" , \"Expiry date\" : \"08 aug,23\" , \"Price\" : \"10\",},\n",
        "          2221 : {\"Name\": \"kurkure NIMKO\" , \"Type\": \"kurkure\" , \"Quantity\" : \"190\" , \"Expiry date\" : \"13 aug,23\" , \"Price\" : \"15\",},\n",
        "          2222 : {\"Name\": \"Mother Dairy\" , \"Type\": \"Milk\" , \"Quantity\" : \"200\" , \"Expiry date\" : \"08 jan,22\" , \"Price\" : \"20\",},\n",
        "          2223 : {\"Name\": \"Mother Dairy\" , \"Type\": \"Milk\" , \"Quantity\" : \"80\" , \"Expiry date\" : \"08 jan,22\" , \"Price\" : \"10\",},\n",
        "          2224 : {\"Name\": \"Dynamix Dairy\" , \"Type\": \"Milk\" , \"Quantity\" : \"50\" , \"Expiry date\" : \"08 jan,22\" , \"Price\" : \"20\",},\n",
        "          2225 : {\"Name\": \"AAVIN\" , \"Type\": \"Milk\" , \"Quantity\" : \"60\" , \"Expiry date\" : \"08 jan,22\" , \"Price\" : \"20\",},\n",
        "          2226 : {\"Name\": \"Dudhsagar Dairy\" , \"Type\": \"Milk\" , \"Quantity\" : \"130\" , \"Expiry date\" : \"08 jan,22\" , \"Price\" : \"15\",},\n",
        "          2227 : {\"Name\": \"MILMA\" , \"Type\": \"Milk\" , \"Quantity\" : \"70\" , \"Expiry date\" : \"08 jan,22\" , \"Price\" : \"20\",},\n",
        "          2228 : {\"Name\": \"Candyman\" , \"Type\": \"Candy\" , \"Quantity\" : \"80\" , \"Expiry date\" : \"23 aug,23\" , \"Price\" : \"1\",},\n",
        "          2229 : {\"Name\": \"Mango Bite\" , \"Type\": \"Candy\" , \"Quantity\" : \"60\" , \"Expiry date\" : \"03 aug,24\" , \"Price\" : \"2\",},\n",
        "          2230 : {\"Name\": \"Coffy Bite\" , \"Type\": \"Candy\" , \"Quantity\" : \"60\" , \"Expiry date\" : \"13 aug,24\" , \"Price\" : \"1\",},\n",
        "          2231 : {\"Name\": \"Happy Happy\" , \"Type\": \"Biscuits\" , \"Quantity\" : \"80\" , \"Expiry date\" : \"15 aug,23\" , \"Price\" : \"10\",},\n",
        "          2232 : {\"Name\": \"Milk Shakti\" , \"Type\": \"Biscuits\" , \"Quantity\" : \"80\" , \"Expiry date\" : \"11 aug,24\" , \"Price\" : \"5\",},\n",
        "          2233 : {\"Name\": \"Coconut Cookies\" , \"Type\": \"Biscuits\" , \"Quantity\" : \"90\" , \"Expiry date\" : \"11 aug,23\" , \"Price\" : \"10\",},\n",
        "          2234 : {\"Name\": \"Top\" , \"Type\": \"Biscuits\" , \"Quantity\" : \"70\" , \"Expiry date\" : \"18 aug,22\" , \"Price\" : \"30\",},\n",
        "          2235 : {\"Name\": \"Festo\" , \"Type\": \"Biscuits\" , \"Quantity\" : \"100\" , \"Expiry date\" : \"12 aug,5\" , \"Price\" : \"40\",}}\n",
        "         "
      ],
      "execution_count": null,
      "outputs": []
    },
    {
      "cell_type": "code",
      "metadata": {
        "id": "URIaP7xU_M9q"
      },
      "source": [
        "import json\n",
        "js = json.dumps(record)"
      ],
      "execution_count": null,
      "outputs": []
    },
    {
      "cell_type": "code",
      "metadata": {
        "id": "dK46Q-Fl_NEh"
      },
      "source": [
        "fd = open(\"record.json\",'w')\n",
        "fd.write(js)\n",
        "fd.close()"
      ],
      "execution_count": null,
      "outputs": []
    },
    {
      "cell_type": "code",
      "metadata": {
        "colab": {
          "base_uri": "https://localhost:8080/"
        },
        "id": "dwdYXZZT_Hhl",
        "outputId": "0ac6dc08-283a-4242-f882-7bd483464324"
      },
      "source": [
        "print(record)\n",
        "\n",
        "\n",
        "\n",
        "for a in record:\n",
        "  a=input('Enter the Item key u want::')\n",
        "  A=int(a)\n",
        "  print(record[A])\n",
        "  if(int(record[A]['Quantity'])>0):\n",
        "    b=input('How much you want::')\n",
        "    B=int(b)\n",
        "    d=record[A]['Price']\n",
        "    if(B>int(record[A]['Quantity'])):\n",
        "      print('Sorry no enough product try for outher Items')\n",
        "    else:\n",
        "      if(B==0):\n",
        "        print('You asked for nothing')\n",
        "        print('Enter the key of Item again')\n",
        "        \n",
        "      else:\n",
        "        x=record[A]['Quantity']\n",
        "        record[A]['Quantity']=int(x)-B\n",
        "        print(record[A])\n",
        "      \n",
        "        y=int(d)*B\n",
        "      \n",
        "\n",
        "        record[A]['Quantity']=int(x)-B\n",
        "        print(\"You have to pay  \" +str(y)  +\"  Rupees\" )\n",
        "       \n",
        "\n",
        "        print('***************************')\n",
        "        print('     ----   BILL ----      ')\n",
        "        print(\"Your bill is \" +str(y)  +\"  rupice\")\n",
        "        print('----------------------------------')\n",
        "        print('You orderd for  ' )\n",
        "\n",
        "        print(str(B)+ \"   \" +  record[A]['Name'])\n",
        "\n",
        "        print('***************************')\n",
        "        c=str(input('If want to buy some more items enter .Y. ,If not enter .N. :: '))\n",
        "        if(c==str('Y')):\n",
        "          pass\n",
        "        else:\n",
        "          print('Have a nice day')\n",
        "          break\n",
        "\n",
        "  else:\n",
        "    print('No product left')\n",
        "    print('Please try outher products')"
      ],
      "execution_count": null,
      "outputs": [
        {
          "output_type": "stream",
          "name": "stdout",
          "text": [
            "{2201: {'Name': 'Perk', 'Type': 'chocolate', 'Quantity': '30', 'Expiry date': '20 aug,23', 'Price': '10'}, 2202: {'Name': 'Bourneville', 'Type': 'chocolate', 'Quantity': '50', 'Expiry date': '16 aug,24', 'Price': '10'}, 2203: {'Name': 'Dairy Milk', 'Type': 'chocolate', 'Quantity': '40', 'Expiry date': '11 aug,24', 'Price': '10'}, 2204: {'Name': 'Nutties', 'Type': 'chocolate', 'Quantity': '100', 'Expiry date': '12 aug,25', 'Price': '10'}, 2205: {'Name': 'Kit-Kat', 'Type': 'chocolate', 'Quantity': '60', 'Expiry date': '26 aug,24', 'Price': '10'}, 2206: {'Name': 'Perk', 'Type': 'chocolate', 'Quantity': '200', 'Expiry date': '04 aug,26', 'Price': '20'}, 2207: {'Name': 'Bourneville', 'Type': 'chocolate', 'Quantity': '40', 'Expiry date': '01 aug,22', 'Price': '50'}, 2208: {'Name': 'Milky Bar', 'Type': 'chocolate', 'Quantity': '70', 'Expiry date': '22 aug,23', 'Price': '10'}, 2209: {'Name': 'Dairy Milk', 'Type': 'chocolate', 'Quantity': 75, 'Expiry date': '21 aug,24', 'Price': '40'}, 2210: {'Name': 'Dairy Milk Silk', 'Type': 'chocolate', 'Quantity': '50', 'Expiry date': '25 aug,25', 'Price': '20'}, 2211: {'Name': 'Dairy Milk Silk', 'Type': 'chocolate', 'Quantity': '80', 'Expiry date': '07 aug,26', 'Price': '80'}, 2212: {'Name': 'Munch', 'Type': 'chocolate', 'Quantity': '90', 'Expiry date': '09 aug,24', 'Price': '5'}, 2213: {'Name': 'Munch', 'Type': 'chocolate', 'Quantity': '150', 'Expiry date': '29 aug,26', 'Price': '10'}, 2214: {'Name': 'Munch', 'Type': 'chocolate', 'Quantity': '170', 'Expiry date': '24 aug,25', 'Price': '20'}, 2215: {'Name': 'Bar-one', 'Type': 'chocolate', 'Quantity': '60', 'Expiry date': '05 aug,24', 'Price': '10'}, 2216: {'Name': 'Lays wavy', 'Type': 'Lays', 'Quantity': '70', 'Expiry date': '04 aug,25', 'Price': '10'}, 2217: {'Name': 'kurkure masala munch', 'Type': 'kurkure', 'Quantity': '80', 'Expiry date': '06 aug,22', 'Price': '10'}, 2218: {'Name': 'Lays classic', 'Type': 'Lays', 'Quantity': '100', 'Expiry date': '04 aug,24', 'Price': '5'}, 2219: {'Name': 'Lays MAXX', 'Type': 'Lays', 'Quantity': '110', 'Expiry date': '20 aug,23', 'Price': '20'}, 2220: {'Name': 'kurkure Solid Masti', 'Type': 'kurkure', 'Quantity': '120', 'Expiry date': '08 aug,23', 'Price': '10'}, 2221: {'Name': 'kurkure NIMKO', 'Type': 'kurkure', 'Quantity': '190', 'Expiry date': '13 aug,23', 'Price': '15'}, 2222: {'Name': 'Mother Dairy', 'Type': 'Milk', 'Quantity': '200', 'Expiry date': '08 jan,22', 'Price': '20'}, 2223: {'Name': 'Mother Dairy', 'Type': 'Milk', 'Quantity': '80', 'Expiry date': '08 jan,22', 'Price': '10'}, 2224: {'Name': 'Dynamix Dairy', 'Type': 'Milk', 'Quantity': '50', 'Expiry date': '08 jan,22', 'Price': '20'}, 2225: {'Name': 'AAVIN', 'Type': 'Milk', 'Quantity': 55, 'Expiry date': '08 jan,22', 'Price': '20'}, 2226: {'Name': 'Dudhsagar Dairy', 'Type': 'Milk', 'Quantity': 24, 'Expiry date': '08 jan,22', 'Price': '15'}, 2227: {'Name': 'MILMA', 'Type': 'Milk', 'Quantity': 30, 'Expiry date': '08 jan,22', 'Price': '20'}, 2228: {'Name': 'Candyman', 'Type': 'Candy', 'Quantity': '80', 'Expiry date': '23 aug,23', 'Price': '1'}, 2229: {'Name': 'Mango Bite', 'Type': 'Candy', 'Quantity': '60', 'Expiry date': '03 aug,24', 'Price': '2'}, 2230: {'Name': 'Coffy Bite', 'Type': 'Candy', 'Quantity': '60', 'Expiry date': '13 aug,24', 'Price': '1'}, 2231: {'Name': 'Happy Happy', 'Type': 'Biscuits', 'Quantity': '80', 'Expiry date': '15 aug,23', 'Price': '10'}, 2232: {'Name': 'Milk Shakti', 'Type': 'Biscuits', 'Quantity': '80', 'Expiry date': '11 aug,24', 'Price': '5'}, 2233: {'Name': 'Coconut Cookies', 'Type': 'Biscuits', 'Quantity': '90', 'Expiry date': '11 aug,23', 'Price': '10'}, 2234: {'Name': 'Top', 'Type': 'Biscuits', 'Quantity': '70', 'Expiry date': '18 aug,22', 'Price': '30'}, 2235: {'Name': 'Festo', 'Type': 'Biscuits', 'Quantity': '100', 'Expiry date': '12 aug,5', 'Price': '40'}}\n",
            "Enter the Item key u want::2226\n",
            "{'Name': 'Dudhsagar Dairy', 'Type': 'Milk', 'Quantity': 24, 'Expiry date': '08 jan,22', 'Price': '15'}\n",
            "How much you want::5\n",
            "{'Name': 'Dudhsagar Dairy', 'Type': 'Milk', 'Quantity': 19, 'Expiry date': '08 jan,22', 'Price': '15'}\n",
            "You have to pay  75  Rupees\n",
            "***************************\n",
            "     ----   BILL ----      \n",
            "Your bill is 75  rupice\n",
            "----------------------------------\n",
            "You orderd for  \n",
            "5   Dudhsagar Dairy\n",
            "***************************\n",
            "If want to buy some more items enter y ,If not enter n :: y\n",
            "Enter the Item key u want::2201\n",
            "{'Name': 'Perk', 'Type': 'chocolate', 'Quantity': '30', 'Expiry date': '20 aug,23', 'Price': '10'}\n",
            "How much you want::6\n",
            "{'Name': 'Perk', 'Type': 'chocolate', 'Quantity': 24, 'Expiry date': '20 aug,23', 'Price': '10'}\n",
            "You have to pay  60  Rupees\n",
            "***************************\n",
            "     ----   BILL ----      \n",
            "Your bill is 60  rupice\n",
            "----------------------------------\n",
            "You orderd for  \n",
            "6   Perk\n",
            "***************************\n",
            "If want to buy some more items enter y ,If not enter n :: y\n",
            "Enter the Item key u want::2208\n",
            "{'Name': 'Milky Bar', 'Type': 'chocolate', 'Quantity': '70', 'Expiry date': '22 aug,23', 'Price': '10'}\n",
            "How much you want::6\n",
            "{'Name': 'Milky Bar', 'Type': 'chocolate', 'Quantity': 64, 'Expiry date': '22 aug,23', 'Price': '10'}\n",
            "You have to pay  60  Rupees\n",
            "***************************\n",
            "     ----   BILL ----      \n",
            "Your bill is 60  rupice\n",
            "----------------------------------\n",
            "You orderd for  \n",
            "6   Milky Bar\n",
            "***************************\n",
            "If want to buy some more items enter y ,If not enter n :: n\n",
            "Have a nice day\n"
          ]
        }
      ]
    },
    {
      "cell_type": "markdown",
      "metadata": {
        "id": "Xyum_pguOp-g"
      },
      "source": [
        "# New section"
      ]
    }
  ]
}